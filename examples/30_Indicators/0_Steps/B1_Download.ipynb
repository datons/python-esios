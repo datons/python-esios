{
 "cells": [
  {
   "attachments": {},
   "cell_type": "markdown",
   "metadata": {},
   "source": [
    "# Indicators endpoint"
   ]
  },
  {
   "attachments": {},
   "cell_type": "markdown",
   "metadata": {},
   "source": [
    "## Instantiate the client"
   ]
  },
  {
   "cell_type": "code",
   "execution_count": 1,
   "metadata": {},
   "outputs": [],
   "source": [
    "from esios import ESIOSClient\n",
    "client = ESIOSClient()\n",
    "endpoint = client.endpoint(name='indicators')"
   ]
  },
  {
   "attachments": {},
   "cell_type": "markdown",
   "metadata": {},
   "source": [
    "## List indicators ids"
   ]
  },
  {
   "cell_type": "code",
   "execution_count": 2,
   "metadata": {},
   "outputs": [
    {
     "data": {
      "text/html": [
       "<div>\n",
       "<style scoped>\n",
       "    .dataframe tbody tr th:only-of-type {\n",
       "        vertical-align: middle;\n",
       "    }\n",
       "\n",
       "    .dataframe tbody tr th {\n",
       "        vertical-align: top;\n",
       "    }\n",
       "\n",
       "    .dataframe thead th {\n",
       "        text-align: right;\n",
       "    }\n",
       "</style>\n",
       "<table border=\"1\" class=\"dataframe\">\n",
       "  <thead>\n",
       "    <tr style=\"text-align: right;\">\n",
       "      <th></th>\n",
       "      <th>name</th>\n",
       "      <th>description</th>\n",
       "      <th>short_name</th>\n",
       "      <th>id</th>\n",
       "    </tr>\n",
       "  </thead>\n",
       "  <tbody>\n",
       "    <tr>\n",
       "      <th>0</th>\n",
       "      <td>Generación programada PBF Hidráulica UGH</td>\n",
       "      <td>Es el programa de energía diario, con desglose...</td>\n",
       "      <td>Hidráulica UGH</td>\n",
       "      <td>1</td>\n",
       "    </tr>\n",
       "    <tr>\n",
       "      <th>1</th>\n",
       "      <td>Generación programada PBF Hidráulica no UGH</td>\n",
       "      <td>Es el programa de energía diario, con desglose...</td>\n",
       "      <td>Hidráulica no UGH</td>\n",
       "      <td>2</td>\n",
       "    </tr>\n",
       "    <tr>\n",
       "      <th>...</th>\n",
       "      <td>...</td>\n",
       "      <td>...</td>\n",
       "      <td>...</td>\n",
       "      <td>...</td>\n",
       "    </tr>\n",
       "    <tr>\n",
       "      <th>1950</th>\n",
       "      <td>Porcentaje de Energía Renovable No Integrable ...</td>\n",
       "      <td>El proceso de solución de restricciones técnic...</td>\n",
       "      <td>% ERNI RRTT RTD</td>\n",
       "      <td>10461</td>\n",
       "    </tr>\n",
       "    <tr>\n",
       "      <th>1951</th>\n",
       "      <td>Porcentaje de Energía Renovable No Integrable ...</td>\n",
       "      <td>El proceso de solución de restricciones técnic...</td>\n",
       "      <td>% ERNI TOTAL</td>\n",
       "      <td>10462</td>\n",
       "    </tr>\n",
       "  </tbody>\n",
       "</table>\n",
       "<p>1952 rows × 4 columns</p>\n",
       "</div>"
      ],
      "text/plain": [
       "                                                   name  \\\n",
       "0              Generación programada PBF Hidráulica UGH   \n",
       "1           Generación programada PBF Hidráulica no UGH   \n",
       "...                                                 ...   \n",
       "1950  Porcentaje de Energía Renovable No Integrable ...   \n",
       "1951  Porcentaje de Energía Renovable No Integrable ...   \n",
       "\n",
       "                                            description         short_name  \\\n",
       "0     Es el programa de energía diario, con desglose...     Hidráulica UGH   \n",
       "1     Es el programa de energía diario, con desglose...  Hidráulica no UGH   \n",
       "...                                                 ...                ...   \n",
       "1950  El proceso de solución de restricciones técnic...    % ERNI RRTT RTD   \n",
       "1951  El proceso de solución de restricciones técnic...       % ERNI TOTAL   \n",
       "\n",
       "         id  \n",
       "0         1  \n",
       "1         2  \n",
       "...     ...  \n",
       "1950  10461  \n",
       "1951  10462  \n",
       "\n",
       "[1952 rows x 4 columns]"
      ]
     },
     "execution_count": 2,
     "metadata": {},
     "output_type": "execute_result"
    }
   ],
   "source": [
    "df_indicators = endpoint.list()\n",
    "df_indicators"
   ]
  },
  {
   "attachments": {},
   "cell_type": "markdown",
   "metadata": {},
   "source": [
    "## Select indicator id"
   ]
  },
  {
   "cell_type": "code",
   "execution_count": 3,
   "metadata": {},
   "outputs": [],
   "source": [
    "indicator = endpoint.select(id=600)"
   ]
  },
  {
   "attachments": {},
   "cell_type": "markdown",
   "metadata": {},
   "source": [
    "## Get historical data from indicator"
   ]
  },
  {
   "cell_type": "code",
   "execution_count": 4,
   "metadata": {},
   "outputs": [
    {
     "data": {
      "text/html": [
       "<div>\n",
       "<style scoped>\n",
       "    .dataframe tbody tr th:only-of-type {\n",
       "        vertical-align: middle;\n",
       "    }\n",
       "\n",
       "    .dataframe tbody tr th {\n",
       "        vertical-align: top;\n",
       "    }\n",
       "\n",
       "    .dataframe thead th {\n",
       "        text-align: right;\n",
       "    }\n",
       "</style>\n",
       "<table border=\"1\" class=\"dataframe\">\n",
       "  <thead>\n",
       "    <tr style=\"text-align: right;\">\n",
       "      <th></th>\n",
       "      <th>600</th>\n",
       "      <th>geo_id</th>\n",
       "      <th>geo_name</th>\n",
       "    </tr>\n",
       "    <tr>\n",
       "      <th>datetime</th>\n",
       "      <th></th>\n",
       "      <th></th>\n",
       "      <th></th>\n",
       "    </tr>\n",
       "  </thead>\n",
       "  <tbody>\n",
       "    <tr>\n",
       "      <th>2023-01-01 00:00:00+01:00</th>\n",
       "      <td>0.00</td>\n",
       "      <td>1</td>\n",
       "      <td>Portugal</td>\n",
       "    </tr>\n",
       "    <tr>\n",
       "      <th>2023-01-01 00:00:00+01:00</th>\n",
       "      <td>0.00</td>\n",
       "      <td>2</td>\n",
       "      <td>Francia</td>\n",
       "    </tr>\n",
       "    <tr>\n",
       "      <th>...</th>\n",
       "      <td>...</td>\n",
       "      <td>...</td>\n",
       "      <td>...</td>\n",
       "    </tr>\n",
       "    <tr>\n",
       "      <th>2023-01-31 23:00:00+01:00</th>\n",
       "      <td>123.56</td>\n",
       "      <td>8827</td>\n",
       "      <td>Bélgica</td>\n",
       "    </tr>\n",
       "    <tr>\n",
       "      <th>2023-01-31 23:00:00+01:00</th>\n",
       "      <td>87.52</td>\n",
       "      <td>8828</td>\n",
       "      <td>Países Bajos</td>\n",
       "    </tr>\n",
       "  </tbody>\n",
       "</table>\n",
       "<p>5952 rows × 3 columns</p>\n",
       "</div>"
      ],
      "text/plain": [
       "                              600  geo_id      geo_name\n",
       "datetime                                               \n",
       "2023-01-01 00:00:00+01:00    0.00       1      Portugal\n",
       "2023-01-01 00:00:00+01:00    0.00       2       Francia\n",
       "...                           ...     ...           ...\n",
       "2023-01-31 23:00:00+01:00  123.56    8827       Bélgica\n",
       "2023-01-31 23:00:00+01:00   87.52    8828  Países Bajos\n",
       "\n",
       "[5952 rows x 3 columns]"
      ]
     },
     "execution_count": 4,
     "metadata": {},
     "output_type": "execute_result"
    }
   ],
   "source": [
    "df_price = indicator.historical(start='2023-01-01', end='2023-01-31')\n",
    "df_price"
   ]
  },
  {
   "cell_type": "code",
   "execution_count": 5,
   "metadata": {},
   "outputs": [
    {
     "data": {
      "text/plain": [
       "Index(['600', 'geo_id', 'geo_name'], dtype='object')"
      ]
     },
     "execution_count": 5,
     "metadata": {},
     "output_type": "execute_result"
    }
   ],
   "source": [
    "df_price.columns"
   ]
  },
  {
   "attachments": {},
   "cell_type": "markdown",
   "metadata": {},
   "source": [
    "## Export to Excel file"
   ]
  },
  {
   "cell_type": "code",
   "execution_count": 6,
   "metadata": {},
   "outputs": [],
   "source": [
    "df_price.tz_localize(None).to_excel('600.xlsx')"
   ]
  }
 ],
 "metadata": {
  "kernelspec": {
   "display_name": "work",
   "language": "python",
   "name": "python3"
  },
  "language_info": {
   "codemirror_mode": {
    "name": "ipython",
    "version": 3
   },
   "file_extension": ".py",
   "mimetype": "text/x-python",
   "name": "python",
   "nbconvert_exporter": "python",
   "pygments_lexer": "ipython3",
   "version": "3.12.3"
  }
 },
 "nbformat": 4,
 "nbformat_minor": 2
}
