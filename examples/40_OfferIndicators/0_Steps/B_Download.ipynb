{
 "cells": [
  {
   "attachments": {},
   "cell_type": "markdown",
   "metadata": {},
   "source": [
    "# OfferIndicators endpoint\n",
    "\n",
    "## Instantiate the client"
   ]
  },
  {
   "cell_type": "code",
   "execution_count": null,
   "metadata": {},
   "outputs": [],
   "source": [
    "from esios import ESIOSClient\n",
    "\n",
    "client = ESIOSClient()\n",
    "endpoint = client.endpoint(name='offer_indicators')"
   ]
  },
  {
   "attachments": {},
   "cell_type": "markdown",
   "metadata": {},
   "source": [
    "## List indicators ids"
   ]
  },
  {
   "cell_type": "code",
   "execution_count": 5,
   "metadata": {},
   "outputs": [
    {
     "data": {
      "text/html": [
       "<div>\n",
       "<style scoped>\n",
       "    .dataframe tbody tr th:only-of-type {\n",
       "        vertical-align: middle;\n",
       "    }\n",
       "\n",
       "    .dataframe tbody tr th {\n",
       "        vertical-align: top;\n",
       "    }\n",
       "\n",
       "    .dataframe thead th {\n",
       "        text-align: right;\n",
       "    }\n",
       "</style>\n",
       "<table border=\"1\" class=\"dataframe\">\n",
       "  <thead>\n",
       "    <tr style=\"text-align: right;\">\n",
       "      <th></th>\n",
       "      <th>name</th>\n",
       "      <th>description</th>\n",
       "      <th>id</th>\n",
       "      <th>date</th>\n",
       "      <th>values</th>\n",
       "    </tr>\n",
       "  </thead>\n",
       "  <tbody>\n",
       "    <tr>\n",
       "      <th>0</th>\n",
       "      <td>Curvas de ofertas Banda de regulación secundar...</td>\n",
       "      <td>La regulación secundaria es un servicio comple...</td>\n",
       "      <td>601</td>\n",
       "      <td>null</td>\n",
       "      <td>[]</td>\n",
       "    </tr>\n",
       "    <tr>\n",
       "      <th>1</th>\n",
       "      <td>Curvas de ofertas Reserva de potencia adiciona...</td>\n",
       "      <td>La contratación y gestión de reserva de potenc...</td>\n",
       "      <td>629</td>\n",
       "      <td>null</td>\n",
       "      <td>[]</td>\n",
       "    </tr>\n",
       "    <tr>\n",
       "      <th>...</th>\n",
       "      <td>...</td>\n",
       "      <td>...</td>\n",
       "      <td>...</td>\n",
       "      <td>...</td>\n",
       "      <td>...</td>\n",
       "    </tr>\n",
       "    <tr>\n",
       "      <th>23</th>\n",
       "      <td>Curvas de ofertas subasta explícita anual PT-E...</td>\n",
       "      <td>Las subastas explícitas de capacidad son un me...</td>\n",
       "      <td>1672</td>\n",
       "      <td>null</td>\n",
       "      <td>[]</td>\n",
       "    </tr>\n",
       "    <tr>\n",
       "      <th>24</th>\n",
       "      <td>Curvas de ofertas subasta explícita anual PT-E...</td>\n",
       "      <td>Las subastas explícitas de capacidad son un me...</td>\n",
       "      <td>1673</td>\n",
       "      <td>null</td>\n",
       "      <td>[]</td>\n",
       "    </tr>\n",
       "  </tbody>\n",
       "</table>\n",
       "<p>25 rows × 5 columns</p>\n",
       "</div>"
      ],
      "text/plain": [
       "                                                 name  \\\n",
       "0   Curvas de ofertas Banda de regulación secundar...   \n",
       "1   Curvas de ofertas Reserva de potencia adiciona...   \n",
       "..                                                ...   \n",
       "23  Curvas de ofertas subasta explícita anual PT-E...   \n",
       "24  Curvas de ofertas subasta explícita anual PT-E...   \n",
       "\n",
       "                                          description    id  date values  \n",
       "0   La regulación secundaria es un servicio comple...   601  null     []  \n",
       "1   La contratación y gestión de reserva de potenc...   629  null     []  \n",
       "..                                                ...   ...   ...    ...  \n",
       "23  Las subastas explícitas de capacidad son un me...  1672  null     []  \n",
       "24  Las subastas explícitas de capacidad son un me...  1673  null     []  \n",
       "\n",
       "[25 rows x 5 columns]"
      ]
     },
     "execution_count": 5,
     "metadata": {},
     "output_type": "execute_result"
    }
   ],
   "source": [
    "df = endpoint.list()\n",
    "df"
   ]
  },
  {
   "attachments": {},
   "cell_type": "markdown",
   "metadata": {},
   "source": [
    "## Select indicator id"
   ]
  },
  {
   "cell_type": "code",
   "execution_count": 15,
   "metadata": {},
   "outputs": [
    {
     "data": {
      "text/plain": [
       "<esios.offer_indicators.OfferIndicator at 0x1242e4850>"
      ]
     },
     "execution_count": 15,
     "metadata": {},
     "output_type": "execute_result"
    }
   ],
   "source": [
    "indicator = endpoint.select(670)\n",
    "indicator"
   ]
  },
  {
   "cell_type": "code",
   "execution_count": 16,
   "metadata": {},
   "outputs": [
    {
     "data": {
      "text/plain": [
       "{'name': 'Curvas de ofertas: energías de balance RR subir',\n",
       " 'short_name': 'Energías de balance RR',\n",
       " 'id': 670,\n",
       " 'values_updated_at': None,\n",
       " 'values_count': 0}"
      ]
     },
     "execution_count": 16,
     "metadata": {},
     "output_type": "execute_result"
    }
   ],
   "source": [
    "indicator.metadata"
   ]
  },
  {
   "attachments": {},
   "cell_type": "markdown",
   "metadata": {},
   "source": [
    "## Get historical data from indicator"
   ]
  },
  {
   "cell_type": "code",
   "execution_count": 17,
   "metadata": {},
   "outputs": [
    {
     "data": {
      "text/html": [
       "<div>\n",
       "<style scoped>\n",
       "    .dataframe tbody tr th:only-of-type {\n",
       "        vertical-align: middle;\n",
       "    }\n",
       "\n",
       "    .dataframe tbody tr th {\n",
       "        vertical-align: top;\n",
       "    }\n",
       "\n",
       "    .dataframe thead th {\n",
       "        text-align: right;\n",
       "    }\n",
       "</style>\n",
       "<table border=\"1\" class=\"dataframe\">\n",
       "  <thead>\n",
       "    <tr style=\"text-align: right;\">\n",
       "      <th></th>\n",
       "      <th>orden</th>\n",
       "      <th>price</th>\n",
       "      <th>offer</th>\n",
       "      <th>assignation</th>\n",
       "      <th>offer_sum</th>\n",
       "      <th>assignation_sum</th>\n",
       "    </tr>\n",
       "    <tr>\n",
       "      <th>datetime</th>\n",
       "      <th></th>\n",
       "      <th></th>\n",
       "      <th></th>\n",
       "      <th></th>\n",
       "      <th></th>\n",
       "      <th></th>\n",
       "    </tr>\n",
       "  </thead>\n",
       "  <tbody>\n",
       "    <tr>\n",
       "      <th>2024-01-01 00:00:00+01:00</th>\n",
       "      <td>1</td>\n",
       "      <td>57.00</td>\n",
       "      <td>5.0</td>\n",
       "      <td>1.3</td>\n",
       "      <td>5.0</td>\n",
       "      <td>1.3</td>\n",
       "    </tr>\n",
       "    <tr>\n",
       "      <th>2024-01-01 00:00:00+01:00</th>\n",
       "      <td>2</td>\n",
       "      <td>63.33</td>\n",
       "      <td>800.0</td>\n",
       "      <td>200.0</td>\n",
       "      <td>805.0</td>\n",
       "      <td>201.3</td>\n",
       "    </tr>\n",
       "    <tr>\n",
       "      <th>...</th>\n",
       "      <td>...</td>\n",
       "      <td>...</td>\n",
       "      <td>...</td>\n",
       "      <td>...</td>\n",
       "      <td>...</td>\n",
       "      <td>...</td>\n",
       "    </tr>\n",
       "    <tr>\n",
       "      <th>2024-01-31 00:00:00+01:00</th>\n",
       "      <td>68</td>\n",
       "      <td>177.00</td>\n",
       "      <td>8.0</td>\n",
       "      <td>0.0</td>\n",
       "      <td>6160.0</td>\n",
       "      <td>NaN</td>\n",
       "    </tr>\n",
       "    <tr>\n",
       "      <th>2024-01-31 00:00:00+01:00</th>\n",
       "      <td>69</td>\n",
       "      <td>200.00</td>\n",
       "      <td>4.0</td>\n",
       "      <td>0.0</td>\n",
       "      <td>6164.0</td>\n",
       "      <td>NaN</td>\n",
       "    </tr>\n",
       "  </tbody>\n",
       "</table>\n",
       "<p>44999 rows × 6 columns</p>\n",
       "</div>"
      ],
      "text/plain": [
       "                           orden   price  offer  assignation  offer_sum  \\\n",
       "datetime                                                                  \n",
       "2024-01-01 00:00:00+01:00      1   57.00    5.0          1.3        5.0   \n",
       "2024-01-01 00:00:00+01:00      2   63.33  800.0        200.0      805.0   \n",
       "...                          ...     ...    ...          ...        ...   \n",
       "2024-01-31 00:00:00+01:00     68  177.00    8.0          0.0     6160.0   \n",
       "2024-01-31 00:00:00+01:00     69  200.00    4.0          0.0     6164.0   \n",
       "\n",
       "                           assignation_sum  \n",
       "datetime                                    \n",
       "2024-01-01 00:00:00+01:00              1.3  \n",
       "2024-01-01 00:00:00+01:00            201.3  \n",
       "...                                    ...  \n",
       "2024-01-31 00:00:00+01:00              NaN  \n",
       "2024-01-31 00:00:00+01:00              NaN  \n",
       "\n",
       "[44999 rows x 6 columns]"
      ]
     },
     "execution_count": 17,
     "metadata": {},
     "output_type": "execute_result"
    }
   ],
   "source": [
    "df = indicator.historical(start='2024-01-01', end='2024-01-31')\n",
    "df"
   ]
  }
 ],
 "metadata": {
  "kernelspec": {
   "display_name": "base",
   "language": "python",
   "name": "python3"
  },
  "language_info": {
   "codemirror_mode": {
    "name": "ipython",
    "version": 3
   },
   "file_extension": ".py",
   "mimetype": "text/x-python",
   "name": "python",
   "nbconvert_exporter": "python",
   "pygments_lexer": "ipython3",
   "version": "3.10.12"
  },
  "orig_nbformat": 4
 },
 "nbformat": 4,
 "nbformat_minor": 2
}
