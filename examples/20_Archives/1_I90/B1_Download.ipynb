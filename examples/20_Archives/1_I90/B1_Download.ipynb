{
 "cells": [
  {
   "cell_type": "markdown",
   "metadata": {},
   "source": [
    "# Archives endpoint"
   ]
  },
  {
   "cell_type": "markdown",
   "metadata": {},
   "source": [
    "## Instantiate the client and endpoint"
   ]
  },
  {
   "cell_type": "code",
   "execution_count": 2,
   "metadata": {},
   "outputs": [],
   "source": [
    "from esios import ESIOSClient\n",
    "client = ESIOSClient()\n",
    "endpoint = client.endpoint(name='archives')"
   ]
  },
  {
   "cell_type": "markdown",
   "metadata": {},
   "source": [
    "https://www.esios.ree.es/es/descargas"
   ]
  },
  {
   "cell_type": "markdown",
   "metadata": {},
   "source": [
    "## Select archive"
   ]
  },
  {
   "cell_type": "markdown",
   "metadata": {},
   "source": [
    "- I90DIA: 34\n",
    "- https://api.esios.ree.es/archives/34/download?date_type=publicacion&end_date=2024-04-21T23%3A59%3A59%2B00%3A00&locale=es&start_date=2024-04-01T00%3A00%3A00%2B00%3A00"
   ]
  },
  {
   "cell_type": "code",
   "execution_count": 25,
   "metadata": {},
   "outputs": [
    {
     "name": "stdout",
     "output_type": "stream",
     "text": [
      "https://api.esios.ree.es/archives/34\n"
     ]
    }
   ],
   "source": [
    "archive = endpoint.select(id=34)"
   ]
  },
  {
   "cell_type": "markdown",
   "metadata": {},
   "source": [
    "## Configure query"
   ]
  },
  {
   "cell_type": "code",
   "execution_count": 29,
   "metadata": {},
   "outputs": [
    {
     "name": "stdout",
     "output_type": "stream",
     "text": [
      "https://api.esios.ree.es/archives/34\n"
     ]
    }
   ],
   "source": [
    "archive.configure(data_type='real', start='2023-01-01', end='2024-05-01')"
   ]
  },
  {
   "cell_type": "markdown",
   "metadata": {},
   "source": [
    "## See metadata"
   ]
  },
  {
   "cell_type": "code",
   "execution_count": 30,
   "metadata": {},
   "outputs": [
    {
     "data": {
      "text/plain": [
       "{'archive': {'name': 'I90DIA',\n",
       "  'description': 'Información de detalle por Unidad de Programación (I90DIA)',\n",
       "  'updated_at': '2015-01-29 09:20:49.0',\n",
       "  'id': 34,\n",
       "  'horizon': 'D',\n",
       "  'archive_type': 'zip',\n",
       "  'download': {'name': 'I90DIA',\n",
       "   'url': '/archives/34/download?date_type=datos&end_date=2024-05-01T23%3A59%3A59%2B00%3A00&locale=es&start_date=2023-01-01T00%3A00%3A00%2B00%3A00'},\n",
       "  'date': {'date_type': 'datos',\n",
       "   'start_date': '2023-01-01 00:00:00.000+0100',\n",
       "   'end_date': '2024-05-01 23:59:59.000+0200'},\n",
       "  'date_times': ['2023-01-01', '2024-03-13'],\n",
       "  'publication_date': ['2023-04-25', '2024-05-25'],\n",
       "  'taxonomy_terms': [{'id_taxonomy_term': 155,\n",
       "    'name': 'Generación y consumo',\n",
       "    'vocabulary_id': 20},\n",
       "   {'id_taxonomy_term': 156,\n",
       "    'name': 'Mercados y precios',\n",
       "    'vocabulary_id': 20},\n",
       "   {'id_taxonomy_term': 165, 'name': 'Descargas', 'vocabulary_id': 21},\n",
       "   {'id_taxonomy_term': 168, 'name': 'General', 'vocabulary_id': 22}],\n",
       "  'vocabularies': [{'id_vocabulary': 20, 'name': 'Universo'},\n",
       "   {'id_vocabulary': 21, 'name': 'Temática'},\n",
       "   {'id_vocabulary': 22, 'name': 'Área'}]}}"
      ]
     },
     "execution_count": 30,
     "metadata": {},
     "output_type": "execute_result"
    }
   ],
   "source": [
    "archive.metadata"
   ]
  },
  {
   "cell_type": "markdown",
   "metadata": {},
   "source": [
    "## Download and extract data files"
   ]
  },
  {
   "cell_type": "code",
   "execution_count": null,
   "metadata": {},
   "outputs": [],
   "source": [
    "archive.download_and_extract(output_dir='data')"
   ]
  }
 ],
 "metadata": {
  "kernelspec": {
   "display_name": "work",
   "language": "python",
   "name": "python3"
  },
  "language_info": {
   "codemirror_mode": {
    "name": "ipython",
    "version": 3
   },
   "file_extension": ".py",
   "mimetype": "text/x-python",
   "name": "python",
   "nbconvert_exporter": "python",
   "pygments_lexer": "ipython3",
   "version": "3.12.2"
  }
 },
 "nbformat": 4,
 "nbformat_minor": 2
}
