{
 "cells": [
  {
   "cell_type": "markdown",
   "metadata": {},
   "source": [
    "# Archives endpoint"
   ]
  },
  {
   "cell_type": "markdown",
   "metadata": {},
   "source": [
    "## Instantiate the client and endpoint"
   ]
  },
  {
   "cell_type": "code",
   "execution_count": null,
   "metadata": {},
   "outputs": [],
   "source": [
    "from esios import ESIOSClient\n",
    "client = ESIOSClient()\n",
    "endpoint = client.endpoint(name='archives')"
   ]
  },
  {
   "cell_type": "markdown",
   "metadata": {},
   "source": [
    "## List archives ids"
   ]
  },
  {
   "cell_type": "code",
   "execution_count": null,
   "metadata": {},
   "outputs": [
    {
     "name": "stdout",
     "output_type": "stream",
     "text": [
      "https://api.esios.ree.es/archives\n"
     ]
    },
    {
     "data": {
      "text/html": [
       "<div>\n",
       "<style scoped>\n",
       "    .dataframe tbody tr th:only-of-type {\n",
       "        vertical-align: middle;\n",
       "    }\n",
       "\n",
       "    .dataframe tbody tr th {\n",
       "        vertical-align: top;\n",
       "    }\n",
       "\n",
       "    .dataframe thead th {\n",
       "        text-align: right;\n",
       "    }\n",
       "</style>\n",
       "<table border=\"1\" class=\"dataframe\">\n",
       "  <thead>\n",
       "    <tr style=\"text-align: right;\">\n",
       "      <th></th>\n",
       "      <th>name</th>\n",
       "      <th>id</th>\n",
       "      <th>horizon</th>\n",
       "      <th>archive_type</th>\n",
       "      <th>download</th>\n",
       "      <th>date</th>\n",
       "      <th>date_times</th>\n",
       "      <th>publication_date</th>\n",
       "      <th>taxonomy_terms</th>\n",
       "      <th>vocabularies</th>\n",
       "    </tr>\n",
       "  </thead>\n",
       "  <tbody>\n",
       "    <tr>\n",
       "      <th>0</th>\n",
       "      <td>REE_BalancingEnerBids</td>\n",
       "      <td>181</td>\n",
       "      <td>QM</td>\n",
       "      <td>csv</td>\n",
       "      <td>{'name': 'REE_BalancingEnerBids', 'url': '/arc...</td>\n",
       "      <td>{'date': '2024-05-25T23:59:59.000+02:00'}</td>\n",
       "      <td>[]</td>\n",
       "      <td>[2024-05-25]</td>\n",
       "      <td>[{'id_taxonomy_term': 156, 'name': 'Mercados y...</td>\n",
       "      <td>[{'id_vocabulary': 20, 'name': 'Universo'}, {'...</td>\n",
       "    </tr>\n",
       "    <tr>\n",
       "      <th>1</th>\n",
       "      <td>Resultado_Subasta_Mensual_POR</td>\n",
       "      <td>159</td>\n",
       "      <td>M</td>\n",
       "      <td>xls</td>\n",
       "      <td>{'name': 'Resultado_Subasta_Mensual_POR', 'url...</td>\n",
       "      <td>{'date': '2024-05-25T23:59:59.000+02:00'}</td>\n",
       "      <td>[]</td>\n",
       "      <td>[2024-04-24]</td>\n",
       "      <td>[{'id_taxonomy_term': 156, 'name': 'Mercados y...</td>\n",
       "      <td>[{'id_vocabulary': 20, 'name': 'Universo'}, {'...</td>\n",
       "    </tr>\n",
       "    <tr>\n",
       "      <th>...</th>\n",
       "      <td>...</td>\n",
       "      <td>...</td>\n",
       "      <td>...</td>\n",
       "      <td>...</td>\n",
       "      <td>...</td>\n",
       "      <td>...</td>\n",
       "      <td>...</td>\n",
       "      <td>...</td>\n",
       "      <td>...</td>\n",
       "      <td>...</td>\n",
       "    </tr>\n",
       "    <tr>\n",
       "      <th>24</th>\n",
       "      <td>totalp48</td>\n",
       "      <td>29</td>\n",
       "      <td>H</td>\n",
       "      <td>xml</td>\n",
       "      <td>{'name': 'totalp48', 'url': '/archives/29/down...</td>\n",
       "      <td>{'date': '2024-05-25T23:59:59.000+02:00'}</td>\n",
       "      <td>[2024-05-25]</td>\n",
       "      <td>[2024-05-25]</td>\n",
       "      <td>[{'id_taxonomy_term': 155, 'name': 'Generación...</td>\n",
       "      <td>[{'id_vocabulary': 20, 'name': 'Universo'}, {'...</td>\n",
       "    </tr>\n",
       "    <tr>\n",
       "      <th>25</th>\n",
       "      <td>totalrp48prec</td>\n",
       "      <td>27</td>\n",
       "      <td>H</td>\n",
       "      <td>xml</td>\n",
       "      <td>{'name': 'totalrp48prec', 'url': '/archives/27...</td>\n",
       "      <td>{'date': '2024-05-25T23:59:59.000+02:00'}</td>\n",
       "      <td>[2024-05-25]</td>\n",
       "      <td>[2024-05-25]</td>\n",
       "      <td>[{'id_taxonomy_term': 156, 'name': 'Mercados y...</td>\n",
       "      <td>[{'id_vocabulary': 20, 'name': 'Universo'}, {'...</td>\n",
       "    </tr>\n",
       "  </tbody>\n",
       "</table>\n",
       "<p>26 rows × 10 columns</p>\n",
       "</div>"
      ],
      "text/plain": [
       "                             name   id horizon archive_type  \\\n",
       "0           REE_BalancingEnerBids  181      QM          csv   \n",
       "1   Resultado_Subasta_Mensual_POR  159       M          xls   \n",
       "..                            ...  ...     ...          ...   \n",
       "24                       totalp48   29       H          xml   \n",
       "25                  totalrp48prec   27       H          xml   \n",
       "\n",
       "                                             download  \\\n",
       "0   {'name': 'REE_BalancingEnerBids', 'url': '/arc...   \n",
       "1   {'name': 'Resultado_Subasta_Mensual_POR', 'url...   \n",
       "..                                                ...   \n",
       "24  {'name': 'totalp48', 'url': '/archives/29/down...   \n",
       "25  {'name': 'totalrp48prec', 'url': '/archives/27...   \n",
       "\n",
       "                                         date    date_times publication_date  \\\n",
       "0   {'date': '2024-05-25T23:59:59.000+02:00'}            []     [2024-05-25]   \n",
       "1   {'date': '2024-05-25T23:59:59.000+02:00'}            []     [2024-04-24]   \n",
       "..                                        ...           ...              ...   \n",
       "24  {'date': '2024-05-25T23:59:59.000+02:00'}  [2024-05-25]     [2024-05-25]   \n",
       "25  {'date': '2024-05-25T23:59:59.000+02:00'}  [2024-05-25]     [2024-05-25]   \n",
       "\n",
       "                                       taxonomy_terms  \\\n",
       "0   [{'id_taxonomy_term': 156, 'name': 'Mercados y...   \n",
       "1   [{'id_taxonomy_term': 156, 'name': 'Mercados y...   \n",
       "..                                                ...   \n",
       "24  [{'id_taxonomy_term': 155, 'name': 'Generación...   \n",
       "25  [{'id_taxonomy_term': 156, 'name': 'Mercados y...   \n",
       "\n",
       "                                         vocabularies  \n",
       "0   [{'id_vocabulary': 20, 'name': 'Universo'}, {'...  \n",
       "1   [{'id_vocabulary': 20, 'name': 'Universo'}, {'...  \n",
       "..                                                ...  \n",
       "24  [{'id_vocabulary': 20, 'name': 'Universo'}, {'...  \n",
       "25  [{'id_vocabulary': 20, 'name': 'Universo'}, {'...  \n",
       "\n",
       "[26 rows x 10 columns]"
      ]
     },
     "metadata": {},
     "output_type": "display_data"
    }
   ],
   "source": [
    "df_indicators = endpoint.list()\n",
    "df_indicators"
   ]
  },
  {
   "cell_type": "markdown",
   "metadata": {},
   "source": [
    "https://www.esios.ree.es/es/descargas"
   ]
  },
  {
   "cell_type": "markdown",
   "metadata": {},
   "source": [
    "## Select archive"
   ]
  },
  {
   "cell_type": "markdown",
   "metadata": {},
   "source": [
    "- I90DIA: 34\n",
    "- https://api.esios.ree.es/archives/34/download?date_type=publicacion&end_date=2024-04-21T23%3A59%3A59%2B00%3A00&locale=es&start_date=2024-04-01T00%3A00%3A00%2B00%3A00"
   ]
  },
  {
   "cell_type": "code",
   "execution_count": null,
   "metadata": {},
   "outputs": [
    {
     "name": "stdout",
     "output_type": "stream",
     "text": [
      "https://api.esios.ree.es/archives/34\n"
     ]
    }
   ],
   "source": [
    "archive = endpoint.select(id=34)"
   ]
  },
  {
   "cell_type": "markdown",
   "metadata": {},
   "source": [
    "## Configure query"
   ]
  },
  {
   "cell_type": "code",
   "execution_count": null,
   "metadata": {},
   "outputs": [
    {
     "name": "stdout",
     "output_type": "stream",
     "text": [
      "https://api.esios.ree.es/archives/34\n"
     ]
    }
   ],
   "source": [
    "archive.configure(data_type='real', start='2023-01-01', end='2024-05-01')"
   ]
  },
  {
   "cell_type": "markdown",
   "metadata": {},
   "source": [
    "## See metadata"
   ]
  },
  {
   "cell_type": "code",
   "execution_count": null,
   "metadata": {},
   "outputs": [
    {
     "data": {
      "text/plain": [
       "{'archive': {'name': 'I90DIA',\n",
       "  'description': 'Información de detalle por Unidad de Programación (I90DIA)',\n",
       "  'updated_at': '2015-01-29 09:20:49.0',\n",
       "  'id': 34,\n",
       "  'horizon': 'D',\n",
       "  'archive_type': 'zip',\n",
       "  'download': {'name': 'I90DIA',\n",
       "   'url': '/archives/34/download?date_type=datos&end_date=2024-05-01T23%3A59%3A59%2B00%3A00&locale=es&start_date=2023-01-01T00%3A00%3A00%2B00%3A00'},\n",
       "  'date': {'date_type': 'datos',\n",
       "   'start_date': '2023-01-01 00:00:00.000+0100',\n",
       "   'end_date': '2024-05-01 23:59:59.000+0200'},\n",
       "  'date_times': ['2023-01-01', '2024-03-13'],\n",
       "  'publication_date': ['2023-04-25', '2024-05-25'],\n",
       "  'taxonomy_terms': [{'id_taxonomy_term': 155,\n",
       "    'name': 'Generación y consumo',\n",
       "    'vocabulary_id': 20},\n",
       "   {'id_taxonomy_term': 156,\n",
       "    'name': 'Mercados y precios',\n",
       "    'vocabulary_id': 20},\n",
       "   {'id_taxonomy_term': 165, 'name': 'Descargas', 'vocabulary_id': 21},\n",
       "   {'id_taxonomy_term': 168, 'name': 'General', 'vocabulary_id': 22}],\n",
       "  'vocabularies': [{'id_vocabulary': 20, 'name': 'Universo'},\n",
       "   {'id_vocabulary': 21, 'name': 'Temática'},\n",
       "   {'id_vocabulary': 22, 'name': 'Área'}]}}"
      ]
     },
     "metadata": {},
     "output_type": "display_data"
    }
   ],
   "source": [
    "archive.metadata"
   ]
  },
  {
   "cell_type": "markdown",
   "metadata": {},
   "source": [
    "## Download and extract data files"
   ]
  },
  {
   "cell_type": "code",
   "execution_count": null,
   "metadata": {},
   "outputs": [],
   "source": [
    "archive.download_and_extract(output_dir='data')"
   ]
  },
  {
   "cell_type": "markdown",
   "metadata": {},
   "source": [
    "## Data preprocessing"
   ]
  },
  {
   "cell_type": "code",
   "execution_count": 5,
   "metadata": {},
   "outputs": [
    {
     "data": {
      "text/html": [
       "<div>\n",
       "<style scoped>\n",
       "    .dataframe tbody tr th:only-of-type {\n",
       "        vertical-align: middle;\n",
       "    }\n",
       "\n",
       "    .dataframe tbody tr th {\n",
       "        vertical-align: top;\n",
       "    }\n",
       "\n",
       "    .dataframe thead th {\n",
       "        text-align: right;\n",
       "    }\n",
       "</style>\n",
       "<table border=\"1\" class=\"dataframe\">\n",
       "  <thead>\n",
       "    <tr style=\"text-align: right;\">\n",
       "      <th></th>\n",
       "      <th>redespacho</th>\n",
       "      <th>sentido</th>\n",
       "      <th>concepto</th>\n",
       "      <th>restriccion</th>\n",
       "      <th>energia</th>\n",
       "    </tr>\n",
       "    <tr>\n",
       "      <th>fecha</th>\n",
       "      <th></th>\n",
       "      <th></th>\n",
       "      <th></th>\n",
       "      <th></th>\n",
       "      <th></th>\n",
       "    </tr>\n",
       "  </thead>\n",
       "  <tbody>\n",
       "    <tr>\n",
       "      <th>2023-01-01 00:00:00</th>\n",
       "      <td>UPOPVPV</td>\n",
       "      <td>Subir</td>\n",
       "      <td>Carbón</td>\n",
       "      <td>RTT</td>\n",
       "      <td>0.000</td>\n",
       "    </tr>\n",
       "    <tr>\n",
       "      <th>2023-01-01 00:00:00</th>\n",
       "      <td>UPOPVPV</td>\n",
       "      <td>Subir</td>\n",
       "      <td>Carbón</td>\n",
       "      <td>RTD</td>\n",
       "      <td>0.000</td>\n",
       "    </tr>\n",
       "    <tr>\n",
       "      <th>...</th>\n",
       "      <td>...</td>\n",
       "      <td>...</td>\n",
       "      <td>...</td>\n",
       "      <td>...</td>\n",
       "      <td>...</td>\n",
       "    </tr>\n",
       "    <tr>\n",
       "      <th>2023-01-01 23:45:00</th>\n",
       "      <td>ECO</td>\n",
       "      <td>Bajar</td>\n",
       "      <td>Solar térmica</td>\n",
       "      <td>NaN</td>\n",
       "      <td>0.000</td>\n",
       "    </tr>\n",
       "    <tr>\n",
       "      <th>2023-01-01 23:45:00</th>\n",
       "      <td>ECO</td>\n",
       "      <td>Bajar</td>\n",
       "      <td>Turbinación bombeo</td>\n",
       "      <td>NaN</td>\n",
       "      <td>-266.475</td>\n",
       "    </tr>\n",
       "  </tbody>\n",
       "</table>\n",
       "<p>1536 rows × 5 columns</p>\n",
       "</div>"
      ],
      "text/plain": [
       "                    redespacho sentido            concepto restriccion  \\\n",
       "fecha                                                                    \n",
       "2023-01-01 00:00:00    UPOPVPV   Subir              Carbón         RTT   \n",
       "2023-01-01 00:00:00    UPOPVPV   Subir              Carbón         RTD   \n",
       "...                        ...     ...                 ...         ...   \n",
       "2023-01-01 23:45:00        ECO   Bajar       Solar térmica         NaN   \n",
       "2023-01-01 23:45:00        ECO   Bajar  Turbinación bombeo         NaN   \n",
       "\n",
       "                     energia  \n",
       "fecha                         \n",
       "2023-01-01 00:00:00    0.000  \n",
       "2023-01-01 00:00:00    0.000  \n",
       "...                      ...  \n",
       "2023-01-01 23:45:00    0.000  \n",
       "2023-01-01 23:45:00 -266.475  \n",
       "\n",
       "[1536 rows x 5 columns]"
      ]
     },
     "execution_count": 5,
     "metadata": {},
     "output_type": "execute_result"
    }
   ],
   "source": [
    "import os\n",
    "import pandas as pd\n",
    "    \n",
    "path = 'data/I3DIA/I3DIA_20230101/I3DIA_20230101.xls'\n",
    "\n",
    "df = pd.read_excel(path, skiprows=2, sheet_name='I3DIA03', index_col=[0,1,2,3]).loc[:,1:]\n",
    "\n",
    "date = os.path.basename(path).split('_')[1].split('.')[0]\n",
    "dates = pd.date_range(date, periods=len(df.columns), freq='15min')\n",
    "df.columns = dates\n",
    "\n",
    "df = df.fillna(0).melt(ignore_index=False).reset_index().rename(columns={'variable': 'datetime', 'value': 'energy'})\n",
    "df = df.sort_values(['datetime', 'Concepto']).reset_index(drop=True)\n",
    "\n",
    "df.columns = ['redespacho', 'sentido', 'concepto', 'restriccion', 'fecha', 'energia']\n",
    "\n",
    "df.set_index(['fecha', 'redespacho', 'sentido', 'concepto', 'restriccion'], inplace=True)\n",
    "df = df.reset_index().set_index('fecha')\n",
    "df"
   ]
  },
  {
   "cell_type": "markdown",
   "metadata": {},
   "source": [
    "## Export to file"
   ]
  },
  {
   "cell_type": "code",
   "execution_count": 6,
   "metadata": {},
   "outputs": [],
   "source": [
    "df.to_parquet('data/I3DIA/I3DIA03_2023.parquet')"
   ]
  }
 ],
 "metadata": {
  "kernelspec": {
   "display_name": "work",
   "language": "python",
   "name": "python3"
  },
  "language_info": {
   "codemirror_mode": {
    "name": "ipython",
    "version": 3
   },
   "file_extension": ".py",
   "mimetype": "text/x-python",
   "name": "python",
   "nbconvert_exporter": "python",
   "pygments_lexer": "ipython3",
   "version": "3.12.2"
  }
 },
 "nbformat": 4,
 "nbformat_minor": 2
}
