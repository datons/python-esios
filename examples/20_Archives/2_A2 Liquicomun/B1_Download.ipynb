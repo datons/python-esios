{
 "cells": [
  {
   "cell_type": "markdown",
   "metadata": {},
   "source": [
    "# A2 Liquicomun"
   ]
  },
  {
   "cell_type": "markdown",
   "metadata": {},
   "source": [
    "## Instantiate the client"
   ]
  },
  {
   "cell_type": "code",
   "execution_count": 1,
   "metadata": {},
   "outputs": [],
   "source": [
    "from esios.endpoints import Archives\n",
    "client = Archives()"
   ]
  },
  {
   "cell_type": "markdown",
   "metadata": {},
   "source": [
    "## Search and download ID\n",
    "\n",
    "https://www.esios.ree.es/es/descargas\n",
    "\n",
    "- 3: A2_liquicomun"
   ]
  },
  {
   "cell_type": "code",
   "execution_count": 75,
   "metadata": {},
   "outputs": [],
   "source": [
    "data = endpoint.get(3, date_type='publicacion', start_date='2024-05-01', end_date='2024-05-31')\n",
    "data.download_and_extract('data')"
   ]
  },
  {
   "cell_type": "markdown",
   "metadata": {},
   "source": [
    "## Data preprorcessing"
   ]
  },
  {
   "cell_type": "code",
   "execution_count": 76,
   "metadata": {},
   "outputs": [],
   "source": [
    "from esios.endpoints.archives import preprocessing"
   ]
  },
  {
   "cell_type": "code",
   "execution_count": 77,
   "metadata": {},
   "outputs": [
    {
     "data": {
      "text/html": [
       "<div>\n",
       "<style scoped>\n",
       "    .dataframe tbody tr th:only-of-type {\n",
       "        vertical-align: middle;\n",
       "    }\n",
       "\n",
       "    .dataframe tbody tr th {\n",
       "        vertical-align: top;\n",
       "    }\n",
       "\n",
       "    .dataframe thead th {\n",
       "        text-align: right;\n",
       "    }\n",
       "</style>\n",
       "<table border=\"1\" class=\"dataframe\">\n",
       "  <thead>\n",
       "    <tr style=\"text-align: right;\">\n",
       "      <th></th>\n",
       "      <th>date</th>\n",
       "      <th>hour</th>\n",
       "      <th>segment</th>\n",
       "      <th>demand_type</th>\n",
       "      <th>cost_eur</th>\n",
       "      <th>demand_mwh</th>\n",
       "      <th>price_emwh</th>\n",
       "    </tr>\n",
       "  </thead>\n",
       "  <tbody>\n",
       "    <tr>\n",
       "      <th>0</th>\n",
       "      <td>03/05/2024</td>\n",
       "      <td>1</td>\n",
       "      <td>BALX</td>\n",
       "      <td>CUR</td>\n",
       "      <td>-12.03</td>\n",
       "      <td>1729.575</td>\n",
       "      <td>-0.006955</td>\n",
       "    </tr>\n",
       "    <tr>\n",
       "      <th>1</th>\n",
       "      <td>03/05/2024</td>\n",
       "      <td>1</td>\n",
       "      <td>BALX</td>\n",
       "      <td>NOCUR</td>\n",
       "      <td>-151.37</td>\n",
       "      <td>21768.705</td>\n",
       "      <td>-0.006954</td>\n",
       "    </tr>\n",
       "    <tr>\n",
       "      <th>...</th>\n",
       "      <td>...</td>\n",
       "      <td>...</td>\n",
       "      <td>...</td>\n",
       "      <td>...</td>\n",
       "      <td>...</td>\n",
       "      <td>...</td>\n",
       "      <td>...</td>\n",
       "    </tr>\n",
       "    <tr>\n",
       "      <th>757</th>\n",
       "      <td>14/05/2024</td>\n",
       "      <td>24</td>\n",
       "      <td>RT6</td>\n",
       "      <td>NOCUR</td>\n",
       "      <td>14431.81</td>\n",
       "      <td>23105.953</td>\n",
       "      <td>0.624593</td>\n",
       "    </tr>\n",
       "    <tr>\n",
       "      <th>758</th>\n",
       "      <td>14/05/2024</td>\n",
       "      <td>24</td>\n",
       "      <td>RT6</td>\n",
       "      <td>TOTAL</td>\n",
       "      <td>15713.30</td>\n",
       "      <td>25157.667</td>\n",
       "      <td>0.624593</td>\n",
       "    </tr>\n",
       "  </tbody>\n",
       "</table>\n",
       "<p>13104 rows × 7 columns</p>\n",
       "</div>"
      ],
      "text/plain": [
       "           date  hour segment demand_type  cost_eur  demand_mwh  price_emwh\n",
       "0    03/05/2024     1    BALX         CUR    -12.03    1729.575   -0.006955\n",
       "1    03/05/2024     1    BALX       NOCUR   -151.37   21768.705   -0.006954\n",
       "..          ...   ...     ...         ...       ...         ...         ...\n",
       "757  14/05/2024    24     RT6       NOCUR  14431.81   23105.953    0.624593\n",
       "758  14/05/2024    24     RT6       TOTAL  15713.30   25157.667    0.624593\n",
       "\n",
       "[13104 rows x 7 columns]"
      ]
     },
     "execution_count": 77,
     "metadata": {},
     "output_type": "execute_result"
    }
   ],
   "source": [
    "df = preprocessing.liquicomun('data/A2_liquicomun', name='compodem')\n",
    "df.columns = ['date', 'hour', 'segment', 'demand_type', 'cost_eur', 'demand_mwh', 'price_emwh']\n",
    "df"
   ]
  },
  {
   "cell_type": "code",
   "execution_count": 78,
   "metadata": {},
   "outputs": [],
   "source": [
    "import pandas as pd"
   ]
  },
  {
   "cell_type": "code",
   "execution_count": 79,
   "metadata": {},
   "outputs": [
    {
     "data": {
      "text/html": [
       "<div>\n",
       "<style scoped>\n",
       "    .dataframe tbody tr th:only-of-type {\n",
       "        vertical-align: middle;\n",
       "    }\n",
       "\n",
       "    .dataframe tbody tr th {\n",
       "        vertical-align: top;\n",
       "    }\n",
       "\n",
       "    .dataframe thead th {\n",
       "        text-align: right;\n",
       "    }\n",
       "</style>\n",
       "<table border=\"1\" class=\"dataframe\">\n",
       "  <thead>\n",
       "    <tr style=\"text-align: right;\">\n",
       "      <th></th>\n",
       "      <th>segment</th>\n",
       "      <th>demand_type</th>\n",
       "      <th>cost_eur</th>\n",
       "      <th>demand_mwh</th>\n",
       "      <th>price_emwh</th>\n",
       "    </tr>\n",
       "    <tr>\n",
       "      <th>datetime</th>\n",
       "      <th></th>\n",
       "      <th></th>\n",
       "      <th></th>\n",
       "      <th></th>\n",
       "      <th></th>\n",
       "    </tr>\n",
       "  </thead>\n",
       "  <tbody>\n",
       "    <tr>\n",
       "      <th>2024-05-01 00:00:00</th>\n",
       "      <td>RAD3</td>\n",
       "      <td>CUR</td>\n",
       "      <td>1878.33</td>\n",
       "      <td>1866.259</td>\n",
       "      <td>1.006468</td>\n",
       "    </tr>\n",
       "    <tr>\n",
       "      <th>2024-05-01 00:00:00</th>\n",
       "      <td>RT6</td>\n",
       "      <td>TOTAL</td>\n",
       "      <td>23545.26</td>\n",
       "      <td>23167.585</td>\n",
       "      <td>1.016302</td>\n",
       "    </tr>\n",
       "    <tr>\n",
       "      <th>...</th>\n",
       "      <td>...</td>\n",
       "      <td>...</td>\n",
       "      <td>...</td>\n",
       "      <td>...</td>\n",
       "      <td>...</td>\n",
       "    </tr>\n",
       "    <tr>\n",
       "      <th>2024-05-19 23:00:00</th>\n",
       "      <td>MI</td>\n",
       "      <td>CUR</td>\n",
       "      <td>113.43</td>\n",
       "      <td>1832.860</td>\n",
       "      <td>0.061887</td>\n",
       "    </tr>\n",
       "    <tr>\n",
       "      <th>2024-05-19 23:00:00</th>\n",
       "      <td>BALX</td>\n",
       "      <td>TOTAL</td>\n",
       "      <td>-1975.94</td>\n",
       "      <td>21006.637</td>\n",
       "      <td>-0.094063</td>\n",
       "    </tr>\n",
       "  </tbody>\n",
       "</table>\n",
       "<p>13104 rows × 5 columns</p>\n",
       "</div>"
      ],
      "text/plain": [
       "                    segment demand_type  cost_eur  demand_mwh  price_emwh\n",
       "datetime                                                                 \n",
       "2024-05-01 00:00:00    RAD3         CUR   1878.33    1866.259    1.006468\n",
       "2024-05-01 00:00:00     RT6       TOTAL  23545.26   23167.585    1.016302\n",
       "...                     ...         ...       ...         ...         ...\n",
       "2024-05-19 23:00:00      MI         CUR    113.43    1832.860    0.061887\n",
       "2024-05-19 23:00:00    BALX       TOTAL  -1975.94   21006.637   -0.094063\n",
       "\n",
       "[13104 rows x 5 columns]"
      ]
     },
     "execution_count": 79,
     "metadata": {},
     "output_type": "execute_result"
    }
   ],
   "source": [
    "df.date = pd.to_datetime(df.date, dayfirst=True)\n",
    "df['datetime'] = df.date + pd.to_timedelta(df.hour - 1, unit='h')\n",
    "df = df.drop(columns=['date', 'hour']).set_index('datetime')\n",
    "df = df.sort_index()\n",
    "df"
   ]
  },
  {
   "cell_type": "markdown",
   "metadata": {},
   "source": [
    "### Export to Excel"
   ]
  },
  {
   "cell_type": "code",
   "execution_count": 80,
   "metadata": {},
   "outputs": [],
   "source": [
    "df.to_excel('data/A2_liquicomun/A2_COMPODEM.xlsx')"
   ]
  }
 ],
 "metadata": {
  "kernelspec": {
   "display_name": "work",
   "language": "python",
   "name": "python3"
  },
  "language_info": {
   "codemirror_mode": {
    "name": "ipython",
    "version": 3
   },
   "file_extension": ".py",
   "mimetype": "text/x-python",
   "name": "python",
   "nbconvert_exporter": "python",
   "pygments_lexer": "ipython3",
   "version": "3.12.2"
  }
 },
 "nbformat": 4,
 "nbformat_minor": 2
}
