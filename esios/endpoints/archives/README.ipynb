{
 "cells": [
  {
   "cell_type": "markdown",
   "metadata": {},
   "source": [
    "# Download archive files from ESIOS API"
   ]
  },
  {
   "cell_type": "markdown",
   "metadata": {},
   "source": [
    "## Instantiate the client"
   ]
  },
  {
   "cell_type": "code",
   "execution_count": 1,
   "metadata": {},
   "outputs": [],
   "source": [
    "from esios.endpoints import Archives\n",
    "client = Archives()"
   ]
  },
  {
   "cell_type": "markdown",
   "metadata": {},
   "source": [
    "## Get the list of archives"
   ]
  },
  {
   "cell_type": "code",
   "execution_count": 2,
   "metadata": {},
   "outputs": [
    {
     "data": {
      "text/html": [
       "<div>\n",
       "<style scoped>\n",
       "    .dataframe tbody tr th:only-of-type {\n",
       "        vertical-align: middle;\n",
       "    }\n",
       "\n",
       "    .dataframe tbody tr th {\n",
       "        vertical-align: top;\n",
       "    }\n",
       "\n",
       "    .dataframe thead th {\n",
       "        text-align: right;\n",
       "    }\n",
       "</style>\n",
       "<table border=\"1\" class=\"dataframe\">\n",
       "  <thead>\n",
       "    <tr style=\"text-align: right;\">\n",
       "      <th></th>\n",
       "      <th>name</th>\n",
       "      <th>id</th>\n",
       "      <th>horizon</th>\n",
       "      <th>archive_type</th>\n",
       "      <th>download</th>\n",
       "      <th>date</th>\n",
       "      <th>date_times</th>\n",
       "      <th>publication_date</th>\n",
       "      <th>taxonomy_terms</th>\n",
       "      <th>vocabularies</th>\n",
       "    </tr>\n",
       "  </thead>\n",
       "  <tbody>\n",
       "    <tr>\n",
       "      <th>0</th>\n",
       "      <td>REE_BalancingEnerBids</td>\n",
       "      <td>181</td>\n",
       "      <td>QM</td>\n",
       "      <td>csv</td>\n",
       "      <td>{'name': 'REE_BalancingEnerBids', 'url': '/arc...</td>\n",
       "      <td>{'date': '2024-05-15T23:59:59.000+02:00'}</td>\n",
       "      <td>[]</td>\n",
       "      <td>[2024-05-15]</td>\n",
       "      <td>[{'id_taxonomy_term': 156, 'name': 'Mercados y...</td>\n",
       "      <td>[{'id_vocabulary': 20, 'name': 'Universo'}, {'...</td>\n",
       "    </tr>\n",
       "    <tr>\n",
       "      <th>1</th>\n",
       "      <td>Resultado_Subasta_Mensual_POR</td>\n",
       "      <td>159</td>\n",
       "      <td>M</td>\n",
       "      <td>xls</td>\n",
       "      <td>{'name': 'Resultado_Subasta_Mensual_POR', 'url...</td>\n",
       "      <td>{'date': '2024-05-15T23:59:59.000+02:00'}</td>\n",
       "      <td>[2024-05-01, 2024-05-31]</td>\n",
       "      <td>[2024-04-24]</td>\n",
       "      <td>[{'id_taxonomy_term': 156, 'name': 'Mercados y...</td>\n",
       "      <td>[{'id_vocabulary': 20, 'name': 'Universo'}, {'...</td>\n",
       "    </tr>\n",
       "    <tr>\n",
       "      <th>...</th>\n",
       "      <td>...</td>\n",
       "      <td>...</td>\n",
       "      <td>...</td>\n",
       "      <td>...</td>\n",
       "      <td>...</td>\n",
       "      <td>...</td>\n",
       "      <td>...</td>\n",
       "      <td>...</td>\n",
       "      <td>...</td>\n",
       "      <td>...</td>\n",
       "    </tr>\n",
       "    <tr>\n",
       "      <th>24</th>\n",
       "      <td>totalp48</td>\n",
       "      <td>29</td>\n",
       "      <td>H</td>\n",
       "      <td>xml</td>\n",
       "      <td>{'name': 'totalp48', 'url': '/archives/29/down...</td>\n",
       "      <td>{'date': '2024-05-15T23:59:59.000+02:00'}</td>\n",
       "      <td>[2024-05-15]</td>\n",
       "      <td>[2024-05-15]</td>\n",
       "      <td>[{'id_taxonomy_term': 155, 'name': 'Generación...</td>\n",
       "      <td>[{'id_vocabulary': 20, 'name': 'Universo'}, {'...</td>\n",
       "    </tr>\n",
       "    <tr>\n",
       "      <th>25</th>\n",
       "      <td>totalrp48prec</td>\n",
       "      <td>27</td>\n",
       "      <td>H</td>\n",
       "      <td>xml</td>\n",
       "      <td>{'name': 'totalrp48prec', 'url': '/archives/27...</td>\n",
       "      <td>{'date': '2024-05-15T23:59:59.000+02:00'}</td>\n",
       "      <td>[2024-05-15]</td>\n",
       "      <td>[2024-05-15]</td>\n",
       "      <td>[{'id_taxonomy_term': 156, 'name': 'Mercados y...</td>\n",
       "      <td>[{'id_vocabulary': 20, 'name': 'Universo'}, {'...</td>\n",
       "    </tr>\n",
       "  </tbody>\n",
       "</table>\n",
       "<p>26 rows × 10 columns</p>\n",
       "</div>"
      ],
      "text/plain": [
       "                             name   id horizon archive_type  \\\n",
       "0           REE_BalancingEnerBids  181      QM          csv   \n",
       "1   Resultado_Subasta_Mensual_POR  159       M          xls   \n",
       "..                            ...  ...     ...          ...   \n",
       "24                       totalp48   29       H          xml   \n",
       "25                  totalrp48prec   27       H          xml   \n",
       "\n",
       "                                             download  \\\n",
       "0   {'name': 'REE_BalancingEnerBids', 'url': '/arc...   \n",
       "1   {'name': 'Resultado_Subasta_Mensual_POR', 'url...   \n",
       "..                                                ...   \n",
       "24  {'name': 'totalp48', 'url': '/archives/29/down...   \n",
       "25  {'name': 'totalrp48prec', 'url': '/archives/27...   \n",
       "\n",
       "                                         date                date_times  \\\n",
       "0   {'date': '2024-05-15T23:59:59.000+02:00'}                        []   \n",
       "1   {'date': '2024-05-15T23:59:59.000+02:00'}  [2024-05-01, 2024-05-31]   \n",
       "..                                        ...                       ...   \n",
       "24  {'date': '2024-05-15T23:59:59.000+02:00'}              [2024-05-15]   \n",
       "25  {'date': '2024-05-15T23:59:59.000+02:00'}              [2024-05-15]   \n",
       "\n",
       "   publication_date                                     taxonomy_terms  \\\n",
       "0      [2024-05-15]  [{'id_taxonomy_term': 156, 'name': 'Mercados y...   \n",
       "1      [2024-04-24]  [{'id_taxonomy_term': 156, 'name': 'Mercados y...   \n",
       "..              ...                                                ...   \n",
       "24     [2024-05-15]  [{'id_taxonomy_term': 155, 'name': 'Generación...   \n",
       "25     [2024-05-15]  [{'id_taxonomy_term': 156, 'name': 'Mercados y...   \n",
       "\n",
       "                                         vocabularies  \n",
       "0   [{'id_vocabulary': 20, 'name': 'Universo'}, {'...  \n",
       "1   [{'id_vocabulary': 20, 'name': 'Universo'}, {'...  \n",
       "..                                                ...  \n",
       "24  [{'id_vocabulary': 20, 'name': 'Universo'}, {'...  \n",
       "25  [{'id_vocabulary': 20, 'name': 'Universo'}, {'...  \n",
       "\n",
       "[26 rows x 10 columns]"
      ]
     },
     "execution_count": 2,
     "metadata": {},
     "output_type": "execute_result"
    }
   ],
   "source": [
    "\n",
    "df = client.list(as_dataframe=True)\n",
    "df"
   ]
  },
  {
   "cell_type": "markdown",
   "metadata": {},
   "source": [
    "## Get a specific archive data"
   ]
  },
  {
   "cell_type": "markdown",
   "metadata": {},
   "source": [
    "### Generate the url to download the archive"
   ]
  },
  {
   "cell_type": "code",
   "execution_count": 3,
   "metadata": {},
   "outputs": [
    {
     "data": {
      "text/plain": [
       "{'archive': {'name': 'C2_liquicomun',\n",
       "  'description': 'Cierre de liquidación C2',\n",
       "  'updated_at': '2015-01-14 14:25:27.0',\n",
       "  'id': 8,\n",
       "  'horizon': 'M',\n",
       "  'archive_type': 'zip',\n",
       "  'download': {'name': 'C2_liquicomun',\n",
       "   'url': '/archives/8/download?date_type=datos&end_date=2024-01-01T00%3A00%3A00%2B00%3A00&locale=es&start_date=2023-09-01T00%3A00%3A00%2B00%3A00'},\n",
       "  'date': {'date_type': 'datos',\n",
       "   'start_date': '2023-09-01 00:00:00.000+0200',\n",
       "   'end_date': '2024-01-01 00:00:00.000+0100'},\n",
       "  'date_times': ['2023-09-01', '2024-01-31'],\n",
       "  'publication_date': ['2023-10-10', '2024-02-09'],\n",
       "  'taxonomy_terms': [{'id_taxonomy_term': 156,\n",
       "    'name': 'Mercados y precios',\n",
       "    'vocabulary_id': 20},\n",
       "   {'id_taxonomy_term': 165, 'name': 'Descargas', 'vocabulary_id': 21},\n",
       "   {'id_taxonomy_term': 172, 'name': 'Liquidaciones', 'vocabulary_id': 22}],\n",
       "  'vocabularies': [{'id_vocabulary': 20, 'name': 'Universo'},\n",
       "   {'id_vocabulary': 21, 'name': 'Temática'},\n",
       "   {'id_vocabulary': 22, 'name': 'Área'}]}}"
      ]
     },
     "execution_count": 3,
     "metadata": {},
     "output_type": "execute_result"
    }
   ],
   "source": [
    "start_date='2023-09-01'\n",
    "end_date='2024-01-01'\n",
    "\n",
    "data = client.get(archive_id=8, start_date='2023-09-01', end_date='2024-01-01')\n",
    "data.get_metadata()"
   ]
  },
  {
   "cell_type": "markdown",
   "metadata": {},
   "source": [
    "### Download and extract the zip file"
   ]
  },
  {
   "cell_type": "code",
   "execution_count": 4,
   "metadata": {},
   "outputs": [],
   "source": [
    "data.download_and_extract(output_dir='./data')"
   ]
  },
  {
   "cell_type": "markdown",
   "metadata": {},
   "source": [
    "## Preprocess and load data"
   ]
  },
  {
   "cell_type": "code",
   "execution_count": 6,
   "metadata": {},
   "outputs": [],
   "source": [
    "path_home = 'data/C2_liquicomun/C2_liquicomun_202309'"
   ]
  },
  {
   "cell_type": "code",
   "execution_count": 8,
   "metadata": {},
   "outputs": [
    {
     "data": {
      "text/html": [
       "<div>\n",
       "<style scoped>\n",
       "    .dataframe tbody tr th:only-of-type {\n",
       "        vertical-align: middle;\n",
       "    }\n",
       "\n",
       "    .dataframe tbody tr th {\n",
       "        vertical-align: top;\n",
       "    }\n",
       "\n",
       "    .dataframe thead th {\n",
       "        text-align: right;\n",
       "    }\n",
       "</style>\n",
       "<table border=\"1\" class=\"dataframe\">\n",
       "  <thead>\n",
       "    <tr style=\"text-align: right;\">\n",
       "      <th></th>\n",
       "      <th>1</th>\n",
       "      <th>2</th>\n",
       "      <th>3</th>\n",
       "      <th>4</th>\n",
       "      <th>5</th>\n",
       "      <th>6</th>\n",
       "      <th>7</th>\n",
       "    </tr>\n",
       "    <tr>\n",
       "      <th>0</th>\n",
       "      <th></th>\n",
       "      <th></th>\n",
       "      <th></th>\n",
       "      <th></th>\n",
       "      <th></th>\n",
       "      <th></th>\n",
       "      <th></th>\n",
       "    </tr>\n",
       "  </thead>\n",
       "  <tbody>\n",
       "    <tr>\n",
       "      <th>16/09/2023</th>\n",
       "      <td>1</td>\n",
       "      <td>AJOM</td>\n",
       "      <td>CUR</td>\n",
       "      <td>0.00</td>\n",
       "      <td>1811.827</td>\n",
       "      <td>0.000000</td>\n",
       "      <td>NaN</td>\n",
       "    </tr>\n",
       "    <tr>\n",
       "      <th>16/09/2023</th>\n",
       "      <td>1</td>\n",
       "      <td>AJOM</td>\n",
       "      <td>NOCUR</td>\n",
       "      <td>0.00</td>\n",
       "      <td>21206.878</td>\n",
       "      <td>0.000000</td>\n",
       "      <td>NaN</td>\n",
       "    </tr>\n",
       "    <tr>\n",
       "      <th>...</th>\n",
       "      <td>...</td>\n",
       "      <td>...</td>\n",
       "      <td>...</td>\n",
       "      <td>...</td>\n",
       "      <td>...</td>\n",
       "      <td>...</td>\n",
       "      <td>...</td>\n",
       "    </tr>\n",
       "    <tr>\n",
       "      <th>30/09/2023</th>\n",
       "      <td>24</td>\n",
       "      <td>RT6</td>\n",
       "      <td>NOCUR</td>\n",
       "      <td>371848.35</td>\n",
       "      <td>20021.397</td>\n",
       "      <td>18.572548</td>\n",
       "      <td>NaN</td>\n",
       "    </tr>\n",
       "    <tr>\n",
       "      <th>30/09/2023</th>\n",
       "      <td>24</td>\n",
       "      <td>RT6</td>\n",
       "      <td>TOTAL</td>\n",
       "      <td>411057.64</td>\n",
       "      <td>22132.539</td>\n",
       "      <td>18.572548</td>\n",
       "      <td>NaN</td>\n",
       "    </tr>\n",
       "  </tbody>\n",
       "</table>\n",
       "<p>24211 rows × 7 columns</p>\n",
       "</div>"
      ],
      "text/plain": [
       "             1     2      3          4          5          6   7\n",
       "0                                                               \n",
       "16/09/2023   1  AJOM    CUR       0.00   1811.827   0.000000 NaN\n",
       "16/09/2023   1  AJOM  NOCUR       0.00  21206.878   0.000000 NaN\n",
       "...         ..   ...    ...        ...        ...        ...  ..\n",
       "30/09/2023  24   RT6  NOCUR  371848.35  20021.397  18.572548 NaN\n",
       "30/09/2023  24   RT6  TOTAL  411057.64  22132.539  18.572548 NaN\n",
       "\n",
       "[24211 rows x 7 columns]"
      ]
     },
     "execution_count": 8,
     "metadata": {},
     "output_type": "execute_result"
    }
   ],
   "source": [
    "from esios.endpoints.archives import preprocessing\n",
    "\n",
    "df = preprocessing.c2_liquicomun(path_home, 'compodem')\n",
    "df"
   ]
  }
 ],
 "metadata": {
  "kernelspec": {
   "display_name": "work",
   "language": "python",
   "name": "python3"
  },
  "language_info": {
   "codemirror_mode": {
    "name": "ipython",
    "version": 3
   },
   "file_extension": ".py",
   "mimetype": "text/x-python",
   "name": "python",
   "nbconvert_exporter": "python",
   "pygments_lexer": "ipython3",
   "version": "3.12.2"
  }
 },
 "nbformat": 4,
 "nbformat_minor": 2
}
